{
 "cells": [
  {
   "cell_type": "markdown",
   "metadata": {},
   "source": [
    "# Loading libraries"
   ]
  },
  {
   "cell_type": "code",
   "execution_count": 1,
   "metadata": {
    "scrolled": true
   },
   "outputs": [
    {
     "name": "stderr",
     "output_type": "stream",
     "text": [
      "\n",
      "Attaching package: 'dplyr'\n",
      "\n",
      "The following objects are masked from 'package:plyr':\n",
      "\n",
      "    arrange, count, desc, failwith, id, mutate, rename, summarise,\n",
      "    summarize\n",
      "\n",
      "The following objects are masked from 'package:stats':\n",
      "\n",
      "    filter, lag\n",
      "\n",
      "The following objects are masked from 'package:base':\n",
      "\n",
      "    intersect, setdiff, setequal, union\n",
      "\n"
     ]
    }
   ],
   "source": [
    "library(plyr)\n",
    "library(dplyr)"
   ]
  },
  {
   "cell_type": "code",
   "execution_count": 2,
   "metadata": {},
   "outputs": [
    {
     "name": "stderr",
     "output_type": "stream",
     "text": [
      "Loading required package: Matrix\n",
      "\n",
      "Attaching package: 'arules'\n",
      "\n",
      "The following object is masked from 'package:dplyr':\n",
      "\n",
      "    recode\n",
      "\n",
      "The following objects are masked from 'package:base':\n",
      "\n",
      "    abbreviate, write\n",
      "\n"
     ]
    }
   ],
   "source": [
    "library(arules)"
   ]
  },
  {
   "cell_type": "code",
   "execution_count": 3,
   "metadata": {},
   "outputs": [],
   "source": [
    "bd=read.csv('C://Users//Harsh Darji//Downloads//bankdata_csv_all.csv')"
   ]
  },
  {
   "cell_type": "code",
   "execution_count": 4,
   "metadata": {},
   "outputs": [
    {
     "name": "stdout",
     "output_type": "stream",
     "text": [
      "'data.frame':\t600 obs. of  12 variables:\n",
      " $ id         : Factor w/ 600 levels \"ID12101\",\"ID12102\",..: 1 2 3 4 5 6 7 8 9 10 ...\n",
      " $ age        : int  48 40 51 23 57 57 22 58 37 54 ...\n",
      " $ sex        : Factor w/ 2 levels \"FEMALE\",\"MALE\": 1 2 1 1 1 1 2 2 1 2 ...\n",
      " $ region     : Factor w/ 4 levels \"INNER_CITY\",\"RURAL\",..: 1 4 1 4 2 4 2 4 3 4 ...\n",
      " $ income     : num  17546 30085 16575 20375 50576 ...\n",
      " $ married    : Factor w/ 2 levels \"NO\",\"YES\": 1 2 2 2 2 2 1 2 2 2 ...\n",
      " $ children   : int  1 3 0 3 0 2 0 0 2 2 ...\n",
      " $ car        : Factor w/ 2 levels \"NO\",\"YES\": 1 2 2 1 1 1 1 2 2 2 ...\n",
      " $ save_act   : Factor w/ 2 levels \"NO\",\"YES\": 1 1 2 1 2 2 1 2 1 2 ...\n",
      " $ current_act: Factor w/ 2 levels \"NO\",\"YES\": 1 2 2 2 1 2 2 2 1 2 ...\n",
      " $ mortgage   : Factor w/ 2 levels \"NO\",\"YES\": 1 2 1 1 1 1 1 1 1 1 ...\n",
      " $ pep        : Factor w/ 2 levels \"NO\",\"YES\": 2 1 1 1 1 2 2 1 1 1 ...\n"
     ]
    }
   ],
   "source": [
    "str(bd)"
   ]
  },
  {
   "cell_type": "code",
   "execution_count": 5,
   "metadata": {},
   "outputs": [],
   "source": [
    "# Then the first step of conversion: discretization and numeric-to-nominal transformation."
   ]
  },
  {
   "cell_type": "code",
   "execution_count": 6,
   "metadata": {},
   "outputs": [],
   "source": [
    "## Discretize age by customized bin"
   ]
  },
  {
   "cell_type": "code",
   "execution_count": 7,
   "metadata": {},
   "outputs": [],
   "source": [
    "bd$age <- cut(bd$age, breaks = c(0,10,20,30,40,50,60,Inf),labels=c(\"child\",\"teens\",\"twenties\",\"thirties\",\"fourties\",\"fifties\",\"old\"))"
   ]
  },
  {
   "cell_type": "code",
   "execution_count": 8,
   "metadata": {},
   "outputs": [],
   "source": [
    "## Discretize income by equal-width bin"
   ]
  },
  {
   "cell_type": "code",
   "execution_count": 9,
   "metadata": {},
   "outputs": [],
   "source": [
    "min_income <- min(bd$income)\n",
    "max_income <- max(bd$income)\n",
    "bins = 3 \n",
    "width=(max_income - min_income)/bins;\n",
    "bd$income = cut(bd$income, breaks=seq(min_income, max_income, width))\n"
   ]
  },
  {
   "cell_type": "code",
   "execution_count": 10,
   "metadata": {},
   "outputs": [],
   "source": [
    "#Convert numeric to nominal for \"children\""
   ]
  },
  {
   "cell_type": "code",
   "execution_count": 11,
   "metadata": {},
   "outputs": [],
   "source": [
    "bd$children=factor(bd$children)"
   ]
  },
  {
   "cell_type": "code",
   "execution_count": 12,
   "metadata": {},
   "outputs": [],
   "source": [
    "#Now the second step of conversion, changing \"YES\" to \"[variable_name]=YES\"."
   ]
  },
  {
   "cell_type": "code",
   "execution_count": 13,
   "metadata": {},
   "outputs": [],
   "source": [
    "bd$married=dplyr::recode(bd$married, YES=\"married=YES\", NO=\"married=NO\")\n",
    "bd$car=dplyr::recode(bd$car, YES=\"car=YES\", NO=\"car=NO\")\n",
    "bd$save_act=dplyr::recode(bd$save_act, YES=\"save_act=YES\", NO=\"save_act=NO\")\n",
    "bd$current_act=dplyr::recode(bd$current_act, YES=\"current_act=YES\", NO=\"current_act=NO\")\n",
    "bd$mortgage=dplyr::recode(bd$mortgage, YES=\"mortgage=YES\", NO=\"mortgage=NO\")\n",
    "bd$pep=dplyr::recode(bd$pep, YES=\"pep=YES\", NO=\"pep=NO\")\n"
   ]
  },
  {
   "cell_type": "code",
   "execution_count": 14,
   "metadata": {},
   "outputs": [
    {
     "name": "stdout",
     "output_type": "stream",
     "text": [
      "Apriori\n",
      "\n",
      "Parameter specification:\n",
      " confidence minval smax arem  aval originalSupport maxtime support minlen\n",
      "        0.9    0.1    1 none FALSE            TRUE       5   0.001      1\n",
      " maxlen target   ext\n",
      "      3  rules FALSE\n",
      "\n",
      "Algorithmic control:\n",
      " filter tree heap memopt load sort verbose\n",
      "    0.1 TRUE TRUE  FALSE TRUE    2    TRUE\n",
      "\n",
      "Absolute minimum support count: 0 \n",
      "\n",
      "set item appearances ...[0 item(s)] done [0.00s].\n",
      "set transactions ...[631 item(s), 600 transaction(s)] done [0.00s].\n",
      "sorting and recoding items ... [631 item(s)] done [0.00s].\n",
      "creating transaction tree ... done [0.00s].\n",
      "checking subsets of size 1 2 3"
     ]
    },
    {
     "name": "stderr",
     "output_type": "stream",
     "text": [
      "Warning message in apriori(bd, parameter = list(supp = 0.001, conf = 0.9, maxlen = 3)):\n",
      "\"Mining stopped (maxlen reached). Only patterns up to a length of 3 returned!\""
     ]
    },
    {
     "name": "stdout",
     "output_type": "stream",
     "text": [
      " done [0.01s].\n",
      "writing ... [72691 rule(s)] done [0.01s].\n",
      "creating S4 object  ... done [0.01s].\n"
     ]
    }
   ],
   "source": [
    "myRules = apriori(bd, parameter = list(supp = 0.001, conf = 0.9, maxlen = 3))"
   ]
  },
  {
   "cell_type": "code",
   "execution_count": 15,
   "metadata": {},
   "outputs": [
    {
     "data": {
      "text/html": [
       "<table>\n",
       "<thead><tr><th scope=col>id</th><th scope=col>age</th><th scope=col>sex</th><th scope=col>region</th><th scope=col>income</th><th scope=col>married</th><th scope=col>children</th><th scope=col>car</th><th scope=col>save_act</th><th scope=col>current_act</th><th scope=col>mortgage</th><th scope=col>pep</th></tr></thead>\n",
       "<tbody>\n",
       "\t<tr><td>ID12101            </td><td>fourties           </td><td>FEMALE             </td><td>INNER_CITY         </td><td>(5.01e+03,2.44e+04]</td><td>married=NO         </td><td>1                  </td><td>car=NO             </td><td>save_act=NO        </td><td>current_act=NO     </td><td>mortgage=NO        </td><td>pep=YES            </td></tr>\n",
       "\t<tr><td>ID12102            </td><td>thirties           </td><td>MALE               </td><td>TOWN               </td><td>(2.44e+04,4.38e+04]</td><td>married=YES        </td><td>3                  </td><td>car=YES            </td><td>save_act=NO        </td><td>current_act=YES    </td><td>mortgage=YES       </td><td>pep=NO             </td></tr>\n",
       "\t<tr><td>ID12103            </td><td>fifties            </td><td>FEMALE             </td><td>INNER_CITY         </td><td>(5.01e+03,2.44e+04]</td><td>married=YES        </td><td>0                  </td><td>car=YES            </td><td>save_act=YES       </td><td>current_act=YES    </td><td>mortgage=NO        </td><td>pep=NO             </td></tr>\n",
       "\t<tr><td>ID12104            </td><td>twenties           </td><td>FEMALE             </td><td>TOWN               </td><td>(5.01e+03,2.44e+04]</td><td>married=YES        </td><td>3                  </td><td>car=NO             </td><td>save_act=NO        </td><td>current_act=YES    </td><td>mortgage=NO        </td><td>pep=NO             </td></tr>\n",
       "\t<tr><td>ID12105            </td><td>fifties            </td><td>FEMALE             </td><td>RURAL              </td><td>(4.38e+04,6.31e+04]</td><td>married=YES        </td><td>0                  </td><td>car=NO             </td><td>save_act=YES       </td><td>current_act=NO     </td><td>mortgage=NO        </td><td>pep=NO             </td></tr>\n",
       "\t<tr><td>ID12106            </td><td>fifties            </td><td>FEMALE             </td><td>TOWN               </td><td>(2.44e+04,4.38e+04]</td><td>married=YES        </td><td>2                  </td><td>car=NO             </td><td>save_act=YES       </td><td>current_act=YES    </td><td>mortgage=NO        </td><td>pep=YES            </td></tr>\n",
       "</tbody>\n",
       "</table>\n"
      ],
      "text/latex": [
       "\\begin{tabular}{r|llllllllllll}\n",
       " id & age & sex & region & income & married & children & car & save\\_act & current\\_act & mortgage & pep\\\\\n",
       "\\hline\n",
       "\t ID12101               & fourties              & FEMALE                & INNER\\_CITY          & (5.01e+03,2.44e+04{]} & married=NO            & 1                     & car=NO                & save\\_act=NO         & current\\_act=NO      & mortgage=NO           & pep=YES              \\\\\n",
       "\t ID12102               & thirties              & MALE                  & TOWN                  & (2.44e+04,4.38e+04{]} & married=YES           & 3                     & car=YES               & save\\_act=NO         & current\\_act=YES     & mortgage=YES          & pep=NO               \\\\\n",
       "\t ID12103               & fifties               & FEMALE                & INNER\\_CITY          & (5.01e+03,2.44e+04{]} & married=YES           & 0                     & car=YES               & save\\_act=YES        & current\\_act=YES     & mortgage=NO           & pep=NO               \\\\\n",
       "\t ID12104               & twenties              & FEMALE                & TOWN                  & (5.01e+03,2.44e+04{]} & married=YES           & 3                     & car=NO                & save\\_act=NO         & current\\_act=YES     & mortgage=NO           & pep=NO               \\\\\n",
       "\t ID12105               & fifties               & FEMALE                & RURAL                 & (4.38e+04,6.31e+04{]} & married=YES           & 0                     & car=NO                & save\\_act=YES        & current\\_act=NO      & mortgage=NO           & pep=NO               \\\\\n",
       "\t ID12106               & fifties               & FEMALE                & TOWN                  & (2.44e+04,4.38e+04{]} & married=YES           & 2                     & car=NO                & save\\_act=YES        & current\\_act=YES     & mortgage=NO           & pep=YES              \\\\\n",
       "\\end{tabular}\n"
      ],
      "text/markdown": [
       "\n",
       "id | age | sex | region | income | married | children | car | save_act | current_act | mortgage | pep | \n",
       "|---|---|---|---|---|---|\n",
       "| ID12101             | fourties            | FEMALE              | INNER_CITY          | (5.01e+03,2.44e+04] | married=NO          | 1                   | car=NO              | save_act=NO         | current_act=NO      | mortgage=NO         | pep=YES             | \n",
       "| ID12102             | thirties            | MALE                | TOWN                | (2.44e+04,4.38e+04] | married=YES         | 3                   | car=YES             | save_act=NO         | current_act=YES     | mortgage=YES        | pep=NO              | \n",
       "| ID12103             | fifties             | FEMALE              | INNER_CITY          | (5.01e+03,2.44e+04] | married=YES         | 0                   | car=YES             | save_act=YES        | current_act=YES     | mortgage=NO         | pep=NO              | \n",
       "| ID12104             | twenties            | FEMALE              | TOWN                | (5.01e+03,2.44e+04] | married=YES         | 3                   | car=NO              | save_act=NO         | current_act=YES     | mortgage=NO         | pep=NO              | \n",
       "| ID12105             | fifties             | FEMALE              | RURAL               | (4.38e+04,6.31e+04] | married=YES         | 0                   | car=NO              | save_act=YES        | current_act=NO      | mortgage=NO         | pep=NO              | \n",
       "| ID12106             | fifties             | FEMALE              | TOWN                | (2.44e+04,4.38e+04] | married=YES         | 2                   | car=NO              | save_act=YES        | current_act=YES     | mortgage=NO         | pep=YES             | \n",
       "\n",
       "\n"
      ],
      "text/plain": [
       "  id      age      sex    region     income              married     children\n",
       "1 ID12101 fourties FEMALE INNER_CITY (5.01e+03,2.44e+04] married=NO  1       \n",
       "2 ID12102 thirties MALE   TOWN       (2.44e+04,4.38e+04] married=YES 3       \n",
       "3 ID12103 fifties  FEMALE INNER_CITY (5.01e+03,2.44e+04] married=YES 0       \n",
       "4 ID12104 twenties FEMALE TOWN       (5.01e+03,2.44e+04] married=YES 3       \n",
       "5 ID12105 fifties  FEMALE RURAL      (4.38e+04,6.31e+04] married=YES 0       \n",
       "6 ID12106 fifties  FEMALE TOWN       (2.44e+04,4.38e+04] married=YES 2       \n",
       "  car     save_act     current_act     mortgage     pep    \n",
       "1 car=NO  save_act=NO  current_act=NO  mortgage=NO  pep=YES\n",
       "2 car=YES save_act=NO  current_act=YES mortgage=YES pep=NO \n",
       "3 car=YES save_act=YES current_act=YES mortgage=NO  pep=NO \n",
       "4 car=NO  save_act=NO  current_act=YES mortgage=NO  pep=NO \n",
       "5 car=NO  save_act=YES current_act=NO  mortgage=NO  pep=NO \n",
       "6 car=NO  save_act=YES current_act=YES mortgage=NO  pep=YES"
      ]
     },
     "metadata": {},
     "output_type": "display_data"
    }
   ],
   "source": [
    "head(bd)"
   ]
  },
  {
   "cell_type": "code",
   "execution_count": 16,
   "metadata": {},
   "outputs": [],
   "source": [
    "bd<-bd[-c(1)]"
   ]
  },
  {
   "cell_type": "code",
   "execution_count": 17,
   "metadata": {},
   "outputs": [
    {
     "data": {
      "text/html": [
       "<table>\n",
       "<thead><tr><th scope=col>age</th><th scope=col>sex</th><th scope=col>region</th><th scope=col>income</th><th scope=col>married</th><th scope=col>children</th><th scope=col>car</th><th scope=col>save_act</th><th scope=col>current_act</th><th scope=col>mortgage</th><th scope=col>pep</th></tr></thead>\n",
       "<tbody>\n",
       "\t<tr><td>fourties           </td><td>FEMALE             </td><td>INNER_CITY         </td><td>(5.01e+03,2.44e+04]</td><td>married=NO         </td><td>1                  </td><td>car=NO             </td><td>save_act=NO        </td><td>current_act=NO     </td><td>mortgage=NO        </td><td>pep=YES            </td></tr>\n",
       "\t<tr><td>thirties           </td><td>MALE               </td><td>TOWN               </td><td>(2.44e+04,4.38e+04]</td><td>married=YES        </td><td>3                  </td><td>car=YES            </td><td>save_act=NO        </td><td>current_act=YES    </td><td>mortgage=YES       </td><td>pep=NO             </td></tr>\n",
       "\t<tr><td>fifties            </td><td>FEMALE             </td><td>INNER_CITY         </td><td>(5.01e+03,2.44e+04]</td><td>married=YES        </td><td>0                  </td><td>car=YES            </td><td>save_act=YES       </td><td>current_act=YES    </td><td>mortgage=NO        </td><td>pep=NO             </td></tr>\n",
       "\t<tr><td>twenties           </td><td>FEMALE             </td><td>TOWN               </td><td>(5.01e+03,2.44e+04]</td><td>married=YES        </td><td>3                  </td><td>car=NO             </td><td>save_act=NO        </td><td>current_act=YES    </td><td>mortgage=NO        </td><td>pep=NO             </td></tr>\n",
       "\t<tr><td>fifties            </td><td>FEMALE             </td><td>RURAL              </td><td>(4.38e+04,6.31e+04]</td><td>married=YES        </td><td>0                  </td><td>car=NO             </td><td>save_act=YES       </td><td>current_act=NO     </td><td>mortgage=NO        </td><td>pep=NO             </td></tr>\n",
       "\t<tr><td>fifties            </td><td>FEMALE             </td><td>TOWN               </td><td>(2.44e+04,4.38e+04]</td><td>married=YES        </td><td>2                  </td><td>car=NO             </td><td>save_act=YES       </td><td>current_act=YES    </td><td>mortgage=NO        </td><td>pep=YES            </td></tr>\n",
       "</tbody>\n",
       "</table>\n"
      ],
      "text/latex": [
       "\\begin{tabular}{r|lllllllllll}\n",
       " age & sex & region & income & married & children & car & save\\_act & current\\_act & mortgage & pep\\\\\n",
       "\\hline\n",
       "\t fourties              & FEMALE                & INNER\\_CITY          & (5.01e+03,2.44e+04{]} & married=NO            & 1                     & car=NO                & save\\_act=NO         & current\\_act=NO      & mortgage=NO           & pep=YES              \\\\\n",
       "\t thirties              & MALE                  & TOWN                  & (2.44e+04,4.38e+04{]} & married=YES           & 3                     & car=YES               & save\\_act=NO         & current\\_act=YES     & mortgage=YES          & pep=NO               \\\\\n",
       "\t fifties               & FEMALE                & INNER\\_CITY          & (5.01e+03,2.44e+04{]} & married=YES           & 0                     & car=YES               & save\\_act=YES        & current\\_act=YES     & mortgage=NO           & pep=NO               \\\\\n",
       "\t twenties              & FEMALE                & TOWN                  & (5.01e+03,2.44e+04{]} & married=YES           & 3                     & car=NO                & save\\_act=NO         & current\\_act=YES     & mortgage=NO           & pep=NO               \\\\\n",
       "\t fifties               & FEMALE                & RURAL                 & (4.38e+04,6.31e+04{]} & married=YES           & 0                     & car=NO                & save\\_act=YES        & current\\_act=NO      & mortgage=NO           & pep=NO               \\\\\n",
       "\t fifties               & FEMALE                & TOWN                  & (2.44e+04,4.38e+04{]} & married=YES           & 2                     & car=NO                & save\\_act=YES        & current\\_act=YES     & mortgage=NO           & pep=YES              \\\\\n",
       "\\end{tabular}\n"
      ],
      "text/markdown": [
       "\n",
       "age | sex | region | income | married | children | car | save_act | current_act | mortgage | pep | \n",
       "|---|---|---|---|---|---|\n",
       "| fourties            | FEMALE              | INNER_CITY          | (5.01e+03,2.44e+04] | married=NO          | 1                   | car=NO              | save_act=NO         | current_act=NO      | mortgage=NO         | pep=YES             | \n",
       "| thirties            | MALE                | TOWN                | (2.44e+04,4.38e+04] | married=YES         | 3                   | car=YES             | save_act=NO         | current_act=YES     | mortgage=YES        | pep=NO              | \n",
       "| fifties             | FEMALE              | INNER_CITY          | (5.01e+03,2.44e+04] | married=YES         | 0                   | car=YES             | save_act=YES        | current_act=YES     | mortgage=NO         | pep=NO              | \n",
       "| twenties            | FEMALE              | TOWN                | (5.01e+03,2.44e+04] | married=YES         | 3                   | car=NO              | save_act=NO         | current_act=YES     | mortgage=NO         | pep=NO              | \n",
       "| fifties             | FEMALE              | RURAL               | (4.38e+04,6.31e+04] | married=YES         | 0                   | car=NO              | save_act=YES        | current_act=NO      | mortgage=NO         | pep=NO              | \n",
       "| fifties             | FEMALE              | TOWN                | (2.44e+04,4.38e+04] | married=YES         | 2                   | car=NO              | save_act=YES        | current_act=YES     | mortgage=NO         | pep=YES             | \n",
       "\n",
       "\n"
      ],
      "text/plain": [
       "  age      sex    region     income              married     children car    \n",
       "1 fourties FEMALE INNER_CITY (5.01e+03,2.44e+04] married=NO  1        car=NO \n",
       "2 thirties MALE   TOWN       (2.44e+04,4.38e+04] married=YES 3        car=YES\n",
       "3 fifties  FEMALE INNER_CITY (5.01e+03,2.44e+04] married=YES 0        car=YES\n",
       "4 twenties FEMALE TOWN       (5.01e+03,2.44e+04] married=YES 3        car=NO \n",
       "5 fifties  FEMALE RURAL      (4.38e+04,6.31e+04] married=YES 0        car=NO \n",
       "6 fifties  FEMALE TOWN       (2.44e+04,4.38e+04] married=YES 2        car=NO \n",
       "  save_act     current_act     mortgage     pep    \n",
       "1 save_act=NO  current_act=NO  mortgage=NO  pep=YES\n",
       "2 save_act=NO  current_act=YES mortgage=YES pep=NO \n",
       "3 save_act=YES current_act=YES mortgage=NO  pep=NO \n",
       "4 save_act=NO  current_act=YES mortgage=NO  pep=NO \n",
       "5 save_act=YES current_act=NO  mortgage=NO  pep=NO \n",
       "6 save_act=YES current_act=YES mortgage=NO  pep=YES"
      ]
     },
     "metadata": {},
     "output_type": "display_data"
    }
   ],
   "source": [
    "head(bd)"
   ]
  },
  {
   "cell_type": "code",
   "execution_count": 18,
   "metadata": {},
   "outputs": [
    {
     "name": "stdout",
     "output_type": "stream",
     "text": [
      "Apriori\n",
      "\n",
      "Parameter specification:\n",
      " confidence minval smax arem  aval originalSupport maxtime support minlen\n",
      "        0.7    0.1    1 none FALSE            TRUE       5    0.25      1\n",
      " maxlen target   ext\n",
      "     10  rules FALSE\n",
      "\n",
      "Algorithmic control:\n",
      " filter tree heap memopt load sort verbose\n",
      "    0.1 TRUE TRUE  FALSE TRUE    2    TRUE\n",
      "\n",
      "Absolute minimum support count: 150 \n",
      "\n",
      "set item appearances ...[0 item(s)] done [0.00s].\n",
      "set transactions ...[31 item(s), 600 transaction(s)] done [0.00s].\n",
      "sorting and recoding items ... [18 item(s)] done [0.00s].\n",
      "creating transaction tree ... done [0.00s].\n",
      "checking subsets of size 1 2 3 4 done [0.00s].\n",
      "writing ... [44 rule(s)] done [0.00s].\n",
      "creating S4 object  ... done [0.00s].\n"
     ]
    }
   ],
   "source": [
    "rules<-apriori(bd, parameter = list(supp = 0.25, conf = 0.7))"
   ]
  },
  {
   "cell_type": "code",
   "execution_count": 19,
   "metadata": {},
   "outputs": [
    {
     "data": {
      "text/plain": [
       "set of 44 rules\n",
       "\n",
       "rule length distribution (lhs + rhs):sizes\n",
       " 1  2  3 \n",
       " 1 19 24 \n",
       "\n",
       "   Min. 1st Qu.  Median    Mean 3rd Qu.    Max. \n",
       "  1.000   2.000   3.000   2.523   3.000   3.000 \n",
       "\n",
       "summary of quality measures:\n",
       "    support         confidence          lift            count      \n",
       " Min.   :0.2517   Min.   :0.7011   Min.   :0.9645   Min.   :151.0  \n",
       " 1st Qu.:0.2692   1st Qu.:0.7304   1st Qu.:0.9976   1st Qu.:161.5  \n",
       " Median :0.3192   Median :0.7516   Median :1.0161   Median :191.5  \n",
       " Mean   :0.3430   Mean   :0.7492   Mean   :1.0261   Mean   :205.8  \n",
       " 3rd Qu.:0.3688   3rd Qu.:0.7675   3rd Qu.:1.0377   3rd Qu.:221.2  \n",
       " Max.   :0.7583   Max.   :0.8182   Max.   :1.2397   Max.   :455.0  \n",
       "\n",
       "mining info:\n",
       " data ntransactions support confidence\n",
       "   bd           600    0.25        0.7"
      ]
     },
     "metadata": {},
     "output_type": "display_data"
    }
   ],
   "source": [
    "summary(rules)"
   ]
  },
  {
   "cell_type": "code",
   "execution_count": 20,
   "metadata": {},
   "outputs": [],
   "source": [
    "options(digits=3)"
   ]
  },
  {
   "cell_type": "code",
   "execution_count": 21,
   "metadata": {},
   "outputs": [],
   "source": [
    "rules<-sort(rules,decreasing=TRUE, by=\"lift\")"
   ]
  },
  {
   "cell_type": "code",
   "execution_count": 22,
   "metadata": {},
   "outputs": [
    {
     "name": "stdout",
     "output_type": "stream",
     "text": [
      "     lhs                              rhs                           support confidence lift count\n",
      "[1]  {mortgage=mortgage=NO,                                                                      \n",
      "      pep=pep=NO}                  => {married=married=YES}           0.285      0.818 1.24   171\n",
      "[2]  {save_act=save_act=YES,                                                                     \n",
      "      pep=pep=NO}                  => {married=married=YES}           0.292      0.745 1.13   175\n",
      "[3]  {pep=pep=NO}                  => {married=married=YES}           0.403      0.742 1.12   242\n",
      "[4]  {current_act=current_act=YES,                                                               \n",
      "      pep=pep=NO}                  => {married=married=YES}           0.295      0.725 1.10   177\n",
      "[5]  {married=married=YES,                                                                       \n",
      "      pep=pep=NO}                  => {mortgage=mortgage=NO}          0.285      0.707 1.08   171\n",
      "[6]  {current_act=current_act=YES,                                                               \n",
      "      pep=pep=NO}                  => {save_act=save_act=YES}         0.298      0.734 1.06   179\n",
      "[7]  {car=car=NO,                                                                                \n",
      "      mortgage=mortgage=NO}        => {current_act=current_act=YES}   0.263      0.802 1.06   158\n",
      "[8]  {car=car=YES,                                                                               \n",
      "      current_act=current_act=YES} => {save_act=save_act=YES}         0.267      0.727 1.05   160\n",
      "[9]  {married=married=YES,                                                                       \n",
      "      pep=pep=NO}                  => {save_act=save_act=YES}         0.292      0.723 1.05   175\n",
      "[10] {married=married=NO}          => {current_act=current_act=YES}   0.270      0.794 1.05   162\n"
     ]
    }
   ],
   "source": [
    "inspect(rules[1:10])"
   ]
  },
  {
   "cell_type": "code",
   "execution_count": 23,
   "metadata": {},
   "outputs": [
    {
     "ename": "ERROR",
     "evalue": "Error in plot.associations(rules[1:10], method = \"graph\"): Needed package 'arulesViz' not installed or loaded!\n",
     "output_type": "error",
     "traceback": [
      "Error in plot.associations(rules[1:10], method = \"graph\"): Needed package 'arulesViz' not installed or loaded!\nTraceback:\n",
      "1. plot(rules[1:10], method = \"graph\")",
      "2. plot.associations(rules[1:10], method = \"graph\")",
      "3. stop(\"Needed package 'arulesViz' not installed or loaded!\")"
     ]
    }
   ],
   "source": [
    "\n",
    "plot(rules[1:10],method=\"graph\")"
   ]
  },
  {
   "cell_type": "code",
   "execution_count": 24,
   "metadata": {},
   "outputs": [],
   "source": [
    "#Pep Analysis"
   ]
  },
  {
   "cell_type": "code",
   "execution_count": 25,
   "metadata": {},
   "outputs": [
    {
     "name": "stdout",
     "output_type": "stream",
     "text": [
      "Apriori\n",
      "\n",
      "Parameter specification:\n",
      " confidence minval smax arem  aval originalSupport maxtime support minlen\n",
      "        0.8    0.1    1 none FALSE            TRUE       5     0.1      1\n",
      " maxlen target   ext\n",
      "      4  rules FALSE\n",
      "\n",
      "Algorithmic control:\n",
      " filter tree heap memopt load sort verbose\n",
      "    0.1 TRUE TRUE  FALSE TRUE    2    TRUE\n",
      "\n",
      "Absolute minimum support count: 60 \n",
      "\n",
      "set item appearances ...[2 item(s)] done [0.00s].\n",
      "set transactions ...[31 item(s), 600 transaction(s)] done [0.00s].\n",
      "sorting and recoding items ... [30 item(s)] done [0.00s].\n",
      "creating transaction tree ... done [0.00s].\n",
      "checking subsets of size 1 2 3 4"
     ]
    },
    {
     "name": "stderr",
     "output_type": "stream",
     "text": [
      "Warning message in apriori(bd, parameter = list(maxlen = 4), appearance = list(rhs = c(\"pep=pep=YES\", :\n",
      "\"Mining stopped (maxlen reached). Only patterns up to a length of 4 returned!\""
     ]
    },
    {
     "name": "stdout",
     "output_type": "stream",
     "text": [
      " done [0.00s].\n",
      "writing ... [10 rule(s)] done [0.00s].\n",
      "creating S4 object  ... done [0.00s].\n"
     ]
    }
   ],
   "source": [
    "peprules <- apriori(bd, parameter = list(maxlen = 4), appearance = list(rhs = c(\"pep=pep=YES\", \n",
    "    \"pep=pep=NO\")))"
   ]
  },
  {
   "cell_type": "code",
   "execution_count": 26,
   "metadata": {},
   "outputs": [
    {
     "name": "stdout",
     "output_type": "stream",
     "text": [
      "     lhs                              rhs           support confidence lift count\n",
      "[1]  {children=1}                  => {pep=pep=YES}   0.183      0.815 1.78   110\n",
      "[2]  {children=1,                                                                \n",
      "      mortgage=mortgage=NO}        => {pep=pep=YES}   0.118      0.845 1.85    71\n",
      "[3]  {married=married=YES,                                                       \n",
      "      children=1}                  => {pep=pep=YES}   0.123      0.831 1.82    74\n",
      "[4]  {children=1,                                                                \n",
      "      save_act=save_act=YES}       => {pep=pep=YES}   0.133      0.842 1.84    80\n",
      "[5]  {children=1,                                                                \n",
      "      current_act=current_act=YES} => {pep=pep=YES}   0.140      0.832 1.82    84\n",
      "[6]  {children=1,                                                                \n",
      "      save_act=save_act=YES,                                                     \n",
      "      current_act=current_act=YES} => {pep=pep=YES}   0.105      0.863 1.89    63\n",
      "[7]  {sex=FEMALE,                                                                \n",
      "      married=married=YES,                                                       \n",
      "      children=0}                  => {pep=pep=NO}    0.130      0.830 1.53    78\n",
      "[8]  {married=married=YES,                                                       \n",
      "      children=0,                                                                \n",
      "      car=car=NO}                  => {pep=pep=NO}    0.133      0.800 1.47    80\n",
      "[9]  {married=married=YES,                                                       \n",
      "      children=0,                                                                \n",
      "      mortgage=mortgage=NO}        => {pep=pep=NO}    0.173      0.897 1.65   104\n",
      "[10] {married=married=YES,                                                       \n",
      "      children=0,                                                                \n",
      "      save_act=save_act=YES}       => {pep=pep=NO}    0.178      0.899 1.65   107\n"
     ]
    }
   ],
   "source": [
    "inspect(peprules)"
   ]
  },
  {
   "cell_type": "code",
   "execution_count": 27,
   "metadata": {},
   "outputs": [],
   "source": [
    "myrules<-sort(peprules,decreasing=TRUE, by=\"lift\")"
   ]
  },
  {
   "cell_type": "code",
   "execution_count": 28,
   "metadata": {},
   "outputs": [
    {
     "name": "stdout",
     "output_type": "stream",
     "text": [
      "     lhs                              rhs           support confidence lift count\n",
      "[1]  {children=1,                                                                \n",
      "      save_act=save_act=YES,                                                     \n",
      "      current_act=current_act=YES} => {pep=pep=YES}   0.105      0.863 1.89    63\n",
      "[2]  {children=1,                                                                \n",
      "      mortgage=mortgage=NO}        => {pep=pep=YES}   0.118      0.845 1.85    71\n",
      "[3]  {children=1,                                                                \n",
      "      save_act=save_act=YES}       => {pep=pep=YES}   0.133      0.842 1.84    80\n",
      "[4]  {children=1,                                                                \n",
      "      current_act=current_act=YES} => {pep=pep=YES}   0.140      0.832 1.82    84\n",
      "[5]  {married=married=YES,                                                       \n",
      "      children=1}                  => {pep=pep=YES}   0.123      0.831 1.82    74\n",
      "[6]  {children=1}                  => {pep=pep=YES}   0.183      0.815 1.78   110\n",
      "[7]  {married=married=YES,                                                       \n",
      "      children=0,                                                                \n",
      "      save_act=save_act=YES}       => {pep=pep=NO}    0.178      0.899 1.65   107\n",
      "[8]  {married=married=YES,                                                       \n",
      "      children=0,                                                                \n",
      "      mortgage=mortgage=NO}        => {pep=pep=NO}    0.173      0.897 1.65   104\n",
      "[9]  {sex=FEMALE,                                                                \n",
      "      married=married=YES,                                                       \n",
      "      children=0}                  => {pep=pep=NO}    0.130      0.830 1.53    78\n",
      "[10] {married=married=YES,                                                       \n",
      "      children=0,                                                                \n",
      "      car=car=NO}                  => {pep=pep=NO}    0.133      0.800 1.47    80\n"
     ]
    }
   ],
   "source": [
    "inspect(myrules)"
   ]
  },
  {
   "cell_type": "code",
   "execution_count": 29,
   "metadata": {},
   "outputs": [
    {
     "name": "stderr",
     "output_type": "stream",
     "text": [
      "Loading required package: arulesViz\n",
      "Loading required package: grid\n"
     ]
    }
   ],
   "source": [
    "require(arulesViz)"
   ]
  },
  {
   "cell_type": "code",
   "execution_count": 30,
   "metadata": {},
   "outputs": [
    {
     "data": {
      "image/png": "[encoded data removed]",
      "text/plain": [
       "Plot with title \"Graph for 10 rules\""
      ]
     },
     "metadata": {},
     "output_type": "display_data"
    }
   ],
   "source": [
    "plot(myrules[1:10], method = \"graph\")"
   ]
  },
  {
   "cell_type": "code",
   "execution_count": 32,
   "metadata": {},
   "outputs": [
    {
     "data": {
      "image/png": "[encoded data removed]",
      "text/plain": [
       "Plot with title \"Graph for 4 rules\""
      ]
     },
     "metadata": {},
     "output_type": "display_data"
    }
   ],
   "source": [
    "plot(myrules[7:10], method = \"graph\")"
   ]
  },
  {
   "cell_type": "code",
   "execution_count": 33,
   "metadata": {},
   "outputs": [
    {
     "data": {
      "image/png": "[encoded data removed]",
      "text/plain": [
       "Plot with title \"Graph for 6 rules\""
      ]
     },
     "metadata": {},
     "output_type": "display_data"
    }
   ],
   "source": [
    "plot(myrules[1:6], method = \"graph\")"
   ]
  },
  {
   "cell_type": "code",
   "execution_count": null,
   "metadata": {},
   "outputs": [],
   "source": []
  }
 ],
 "metadata": {
  "kernelspec": {
   "display_name": "R",
   "language": "R",
   "name": "ir"
  },
  "language_info": {
   "codemirror_mode": "r",
   "file_extension": ".r",
   "mimetype": "text/x-r-source",
   "name": "R",
   "pygments_lexer": "r",
   "version": "3.5.1"
  }
 },
 "nbformat": 4,
 "nbformat_minor": 2
}
